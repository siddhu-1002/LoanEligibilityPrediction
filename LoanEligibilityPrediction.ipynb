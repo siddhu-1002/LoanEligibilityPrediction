{
 "cells": [
  {
   "cell_type": "code",
   "execution_count": 139,
   "id": "333e9fed",
   "metadata": {},
   "outputs": [],
   "source": [
    "import pandas as pd\n",
    "import numpy as np\n",
    "import matplotlib.pyplot as plt\n",
    "import seaborn as sns\n",
    "import warnings\n",
    "warnings.filterwarnings('ignore')\n",
    "from sklearn.preprocessing import OneHotEncoder\n",
    "from imblearn.over_sampling import SMOTE"
   ]
  },
  {
   "cell_type": "code",
   "execution_count": 140,
   "id": "c10eea2e",
   "metadata": {},
   "outputs": [],
   "source": [
    "train_dataset = pd.read_csv('train.csv')\n",
    "test_dataset = pd.read_csv('test.csv')"
   ]
  },
  {
   "cell_type": "code",
   "execution_count": 141,
   "id": "8b96499f",
   "metadata": {},
   "outputs": [],
   "source": [
    "def preprocessing_features(dataset):\n",
    "    \n",
    "    dataset.drop('Loan_ID', axis = 1, inplace = True)\n",
    "    \n",
    "    dataset['Gender'] = dataset['Gender'].fillna('Female')\n",
    "    dataset['Gender'] = dataset['Gender'].replace('Male', int(1))\n",
    "    dataset['Gender'] = dataset['Gender'].replace('Female', int(2))\n",
    "    dataset = dataset.astype({'Gender' : 'int64'})\n",
    "    \n",
    "    dataset['Married'] = dataset['Married'].fillna('Yes')\n",
    "    dataset['Married'] = dataset['Married'].replace('Yes', int(1))\n",
    "    dataset['Married'] = dataset['Married'].replace('No', int(2))\n",
    "    dataset = dataset.astype({'Married' : 'int64'})\n",
    "    \n",
    "    dataset['Dependents'] = dataset['Dependents'].fillna(int(3))\n",
    "    dataset['Dependents'] = dataset['Dependents'].replace('3+', int(3))\n",
    "    dataset = dataset.astype({'Dependents' : 'int64'})\n",
    "    \n",
    "    dataset['Self_Employed'] = dataset['Self_Employed'].fillna('Yes')\n",
    "    dataset['Self_Employed'] = dataset['Self_Employed'].replace('Yes', 1)\n",
    "    dataset['Self_Employed'] = dataset['Self_Employed'].replace('No', 2)\n",
    "    dataset = dataset.astype({'Self_Employed' : 'int64'})\n",
    "    \n",
    "    dataset['Education'] = dataset['Education'].replace('Graduate', int(1))\n",
    "    dataset['Education'] = dataset['Education'].replace('Not Graduate', int(2))\n",
    "    dataset = dataset.astype({'Education' : 'int64'})\n",
    "    \n",
    "    dataset['LoanAmount'] = dataset['LoanAmount'].fillna(np.mean(dataset['LoanAmount']))\n",
    "    dataset['Loan_Amount_Term'] = dataset['Loan_Amount_Term'].fillna(360)\n",
    "    dataset['Credit_History'] = dataset['Credit_History'].fillna(0)\n",
    "    \n",
    "    return dataset"
   ]
  },
  {
   "cell_type": "code",
   "execution_count": 142,
   "id": "450073cf",
   "metadata": {},
   "outputs": [],
   "source": [
    "def preprocessing_target(series):\n",
    "    series = series.replace('Y', 1)\n",
    "    series = series.replace('N', 0)\n",
    "    return series"
   ]
  },
  {
   "cell_type": "code",
   "execution_count": 143,
   "id": "eb7e50a6",
   "metadata": {},
   "outputs": [],
   "source": [
    "X_train = train_dataset.iloc[:, :-2]\n",
    "X_test = test_dataset.iloc[:, :-1]\n",
    "y_train = train_dataset.iloc[:, -1]"
   ]
  },
  {
   "cell_type": "code",
   "execution_count": 144,
   "id": "d6a45c8e",
   "metadata": {},
   "outputs": [],
   "source": [
    "X_test = X_test.dropna()"
   ]
  },
  {
   "cell_type": "code",
   "execution_count": 145,
   "id": "11184604",
   "metadata": {},
   "outputs": [],
   "source": [
    "X_train = preprocessing_features(X_train)\n",
    "X_test = preprocessing_features(X_test)\n",
    "y_train = preprocessing_target(y_train)\n",
    "\n",
    "y_test = preprocessing_target(y_test)"
   ]
  },
  {
   "cell_type": "code",
   "execution_count": 146,
   "id": "47e00120",
   "metadata": {},
   "outputs": [],
   "source": [
    "oversample = SMOTE()\n",
    "X_train, y_train = oversample.fit_resample(X_train, y_train)"
   ]
  },
  {
   "cell_type": "code",
   "execution_count": 134,
   "id": "8bac0e41",
   "metadata": {},
   "outputs": [
    {
     "data": {
      "text/plain": [
       "LogisticRegression(random_state=23)"
      ]
     },
     "execution_count": 134,
     "metadata": {},
     "output_type": "execute_result"
    }
   ],
   "source": [
    "from sklearn.linear_model import LogisticRegression\n",
    "model = LogisticRegression(random_state = 23)\n",
    "model.fit(X_train, y_train)"
   ]
  },
  {
   "cell_type": "code",
   "execution_count": 135,
   "id": "891ad7c2",
   "metadata": {},
   "outputs": [
    {
     "data": {
      "text/plain": [
       "0.7381516587677726"
      ]
     },
     "execution_count": 135,
     "metadata": {},
     "output_type": "execute_result"
    }
   ],
   "source": [
    "model.score(X_train, y_train)           # Training - 75      # Testing - 72"
   ]
  },
  {
   "cell_type": "code",
   "execution_count": 138,
   "id": "889a8580",
   "metadata": {},
   "outputs": [
    {
     "name": "stdout",
     "output_type": "stream",
     "text": [
      "Yes, you are eligible\n"
     ]
    }
   ],
   "source": [
    "for i in model.predict(X_test):\n",
    "    if i == 1:\n",
    "        print('Yes, you are eligible')\n",
    "    else:\n",
    "        print('No, you are not eligible')\n",
    "        \n",
    "    break"
   ]
  },
  {
   "cell_type": "code",
   "execution_count": null,
   "id": "71e3ea85",
   "metadata": {},
   "outputs": [],
   "source": []
  },
  {
   "cell_type": "code",
   "execution_count": null,
   "id": "68256304",
   "metadata": {},
   "outputs": [],
   "source": []
  }
 ],
 "metadata": {
  "kernelspec": {
   "display_name": "Python 3",
   "language": "python",
   "name": "python3"
  },
  "language_info": {
   "codemirror_mode": {
    "name": "ipython",
    "version": 3
   },
   "file_extension": ".py",
   "mimetype": "text/x-python",
   "name": "python",
   "nbconvert_exporter": "python",
   "pygments_lexer": "ipython3",
   "version": "3.8.8"
  }
 },
 "nbformat": 4,
 "nbformat_minor": 5
}
